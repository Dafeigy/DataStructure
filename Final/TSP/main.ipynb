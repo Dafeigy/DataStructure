{
 "cells": [
  {
   "attachments": {},
   "cell_type": "markdown",
   "metadata": {},
   "source": [
    "导入要用的库。"
   ]
  },
  {
   "cell_type": "code",
   "execution_count": 8,
   "metadata": {},
   "outputs": [],
   "source": [
    "import utils\n",
    "import random\n",
    "import matplotlib.pyplot as plt\n",
    "import math"
   ]
  },
  {
   "attachments": {},
   "cell_type": "markdown",
   "metadata": {},
   "source": [
    "问题参数设定。包括问题规模（城市数量）`N`，遗传算法的迭代轮数`epoch_num`， 变异概率`prob_mutate`，将这些参数设为全局参数。"
   ]
  },
  {
   "cell_type": "code",
   "execution_count": 9,
   "metadata": {},
   "outputs": [],
   "source": [
    "N = 10\n",
    "gen_length = N\n",
    "prob_mutate = .3\n",
    "individuals_num = 60\n",
    "epoch_num = 500"
   ]
  },
  {
   "attachments": {},
   "cell_type": "markdown",
   "metadata": {},
   "source": [
    "下一步是初始化问题的数据。生成城市以及距离矩阵`dmatrix`："
   ]
  },
  {
   "cell_type": "code",
   "execution_count": 10,
   "metadata": {},
   "outputs": [],
   "source": [
    "cities = utils.generate_cities(N)\n",
    "# cities = [[0,1],[1,2],[2,2],[1,0],[3,1],[2,0],[0.5,1]]\n",
    "# cities = utils.generate_hex([0,0],1)\n",
    "# cities += utils.generate_hex([0,0],5)\n",
    "\n",
    "dmatrix = utils.generate_dmatrix(cities)\n",
    "\n"
   ]
  },
  {
   "attachments": {},
   "cell_type": "markdown",
   "metadata": {},
   "source": [
    "下一步是构造遗传算法和遗传算法中的个体，以及遗传算法的相关操作，将其封装至类里实现逻辑分离。"
   ]
  },
  {
   "cell_type": "code",
   "execution_count": 11,
   "metadata": {},
   "outputs": [],
   "source": [
    "class Individual():\n",
    "\n",
    "    def __init__(self, gene = None) -> None:\n",
    "        '''\n",
    "        个体类，包含个体的核心特征`gene`和计算适应度的功能。\n",
    "        '''\n",
    "        if gene is not None:\n",
    "            self.gene = gene \n",
    "        else:\n",
    "            temp = [_ for _ in range(gen_length)]\n",
    "            random.shuffle(temp)\n",
    "            self.gene = temp\n",
    "        self.fitness = self.calculate_fitness()\n",
    "\n",
    "    def calculate_fitness(self):\n",
    "        '''\n",
    "        适应度函数表示为\n",
    "        $\n",
    "        \\\\frac{1}{\\sum_{i=1}^{N-1}d_{i,i+1}}\n",
    "        $\n",
    "        '''\n",
    "        return math.sqrt(sum([dmatrix[self.gene[i]][self.gene[i+1]] for i in range(gen_length-1)]) \\\n",
    "            + dmatrix[self.gene[-1]][self.gene[0]])\n",
    "\n",
    "class GA():\n",
    "    def __init__(self,dmatrix) -> None:\n",
    "        '''\n",
    "        GA算法，包含GA算法的核心操作方式。\n",
    "\n",
    "        Args:\n",
    "            dmatrix: `numpy.ndrray`.表示距离矩阵。\n",
    "        '''\n",
    "        self.dmatrix = dmatrix\n",
    "        self.individuals = []\n",
    "        self.results = []\n",
    "        self.best_fiteness = []\n",
    "        self.best = None\n",
    "        \n",
    "\n",
    "    def mutate(self,next_gen):\n",
    "        '''\n",
    "        子代进行变异操作，即将基因序列中的部分片段进行反转。\n",
    "        Args:\n",
    "            next_gene: list[list[int]], 若干整数列表（基因序列）组成的列表（子代合集）\n",
    "        '''\n",
    "        for each in next_gen:\n",
    "            if random.random()<prob_mutate:\n",
    "                prev_gene = each.gene.copy()\n",
    "                start_index = random.randint(0,gen_length -2)\n",
    "                end_index = random.randint(start_index, gen_length -1)\n",
    "                mutate_gene = prev_gene[start_index:end_index]\n",
    "                mutate_gene.reverse()\n",
    "                each.gene = prev_gene[:start_index] + mutate_gene + prev_gene[end_index:]\n",
    "        self.individuals += next_gen\n",
    "\n",
    "\n",
    "    def cross(self):\n",
    "        '''\n",
    "        杂交，从某个Generation中的Individual中随机两两不重复组合作为父母，然后从父母的片段中筛选基因片段进行重组\n",
    "        然后产生两个后代。\n",
    "\n",
    "        Args：\n",
    "            return list[Individual]\n",
    "        '''\n",
    "        random.shuffle(self.individuals)\n",
    "        next_gen = []\n",
    "        for i in range(0, individuals_num, 2):\n",
    "            f_gene = self.individuals[i].gene.copy()    # Father Gene\n",
    "            m_gene = self.individuals[i+1].gene.copy()  # Mother Gene\n",
    "            # 使用Hashmap记录顺序的对应index\n",
    "            f_hash = {v:k for k,v in enumerate(f_gene)}\n",
    "            m_hash = {v:k for k,v in enumerate(m_gene)}\n",
    "            # 交叉位置随机生成\n",
    "            start_index = random.randint(0, gen_length-2)\n",
    "            end_index = random.randint(start_index, gen_length-1) \n",
    "            # 交叉\n",
    "            for j in range(start_index, end_index):\n",
    "                vf,vm = f_gene[j], m_gene[j]\n",
    "                pos_f, pos_m = f_hash[vm], m_hash[vf]\n",
    "                f_gene[j], f_gene[pos_f] = f_gene[pos_f], f_gene[j]\n",
    "                m_gene[j], m_gene[pos_m] = m_gene[pos_m], m_gene[j]\n",
    "                # 更新Hashmap\n",
    "                f_hash[vf], f_hash[vm] = pos_f, j\n",
    "                m_hash[vf], m_hash[vm] = j, pos_m\n",
    "            next_gen.append(Individual(f_gene))\n",
    "            next_gen.append(Individual(m_gene))\n",
    "        return next_gen\n",
    "\n",
    "    def select_next_gen(self):\n",
    "        '''\n",
    "        锦标赛选择下一代。\n",
    "        '''\n",
    "        # Code from \n",
    "        group_num = 10 #int(.1 * individuals_num)  # 小组数\n",
    "        group_size = 10 #int(.1 * individuals_num)  # 每小组人数\n",
    "        group_winner = individuals_num // group_num  # 每小组获胜人数\n",
    "        winners = []  # 锦标赛结果\n",
    "        for i in range(group_num):\n",
    "            group = []\n",
    "            for j in range(group_size):\n",
    "                # 随机组成小组\n",
    "                player = random.choice(self.individuals)\n",
    "                player = Individual(player.gene)\n",
    "                group.append(player)\n",
    "            group = sorted(group,key=lambda x:x.gene, reverse=True)\n",
    "            # 取出获胜者\n",
    "            winners += group[:group_winner]\n",
    "        self.individuals = winners\n",
    "\n",
    "    def step(self):\n",
    "        '''\n",
    "        迭代过程。\n",
    "        '''\n",
    "        # 杂交\n",
    "        next_gen = self.cross()\n",
    "        # 变异\n",
    "        self.mutate(next_gen)\n",
    "        # 优胜劣汰\n",
    "        self.select_next_gen()\n",
    "\n",
    "        for individual in self.individuals:\n",
    "            if individual.fitness > self.best.fitness:\n",
    "                self.best = individual\n",
    "\n",
    "    def train(self, epoch_num):\n",
    "        '''\n",
    "        Args:\n",
    "            INPUT: epoch_num: 训练的轮数\n",
    "            OUTPUT:\n",
    "                self.results: 最优解\n",
    "                self.best_fiteness: 适应度历史\n",
    "        '''\n",
    "        self.individuals = [ Individual() for _ in range(individuals_num)]\n",
    "        self.best = self.individuals[0]\n",
    "        for epoch in range(epoch_num):\n",
    "            self.step()\n",
    "            result = self.best.gene.copy()\n",
    "            result.append(result[0])\n",
    "\n",
    "            self.results.append(result)\n",
    "            self.best_fiteness.append(self.best.fitness)\n",
    "        \n",
    "        return self.results, self.best_fiteness"
   ]
  },
  {
   "attachments": {},
   "cell_type": "markdown",
   "metadata": {},
   "source": [
    "下面开始求解问题："
   ]
  },
  {
   "cell_type": "code",
   "execution_count": 12,
   "metadata": {},
   "outputs": [],
   "source": [
    "algorithm = GA(dmatrix)\n",
    "result_list, fitness_list = algorithm.train(epoch_num)"
   ]
  },
  {
   "attachments": {},
   "cell_type": "markdown",
   "metadata": {},
   "source": [
    "结果展示一下："
   ]
  },
  {
   "cell_type": "code",
   "execution_count": 13,
   "metadata": {},
   "outputs": [
    {
     "name": "stderr",
     "output_type": "stream",
     "text": [
      "C:\\Users\\10706\\AppData\\Local\\Temp\\ipykernel_17688\\921686177.py:8: UserWarning: Matplotlib is currently using module://matplotlib_inline.backend_inline, which is a non-GUI backend, so cannot show the figure.\n",
      "  fig.show()\n"
     ]
    },
    {
     "data": {
      "image/png": "[encoded data removed]",
      "text/plain": [
       "<Figure size 640x480 with 1 Axes>"
      ]
     },
     "metadata": {},
     "output_type": "display_data"
    }
   ],
   "source": [
    "result = result_list[-1]\n",
    "result_pos_list = [cities[each] for each in result]\n",
    "\n",
    "fig = plt.figure()\n",
    "x_,y_ = zip(*result_pos_list)\n",
    "plt.plot(x_, y_, 'o-r')\n",
    "plt.title(u\"display\")\n",
    "fig.show()"
   ]
  },
  {
   "cell_type": "code",
   "execution_count": 14,
   "metadata": {},
   "outputs": [
    {
     "data": {
      "image/png": "[encoded data removed]",
      "text/plain": [
       "<Figure size 640x480 with 1 Axes>"
      ]
     },
     "metadata": {},
     "output_type": "display_data"
    }
   ],
   "source": [
    "plt.plot(fitness_list)\n",
    "plt.show()"
   ]
  }
 ],
 "metadata": {
  "kernelspec": {
   "display_name": "Python 3",
   "language": "python",
   "name": "python3"
  },
  "language_info": {
   "codemirror_mode": {
    "name": "ipython",
    "version": 3
   },
   "file_extension": ".py",
   "mimetype": "text/x-python",
   "name": "python",
   "nbconvert_exporter": "python",
   "pygments_lexer": "ipython3",
   "version": "3.9.13 (tags/v3.9.13:6de2ca5, May 17 2022, 16:36:42) [MSC v.1929 64 bit (AMD64)]"
  },
  "orig_nbformat": 4,
  "vscode": {
   "interpreter": {
    "hash": "7acb2566f01bf27888f586609b378558894aa82f04dc781041790cf6d0c45f57"
   }
  }
 },
 "nbformat": 4,
 "nbformat_minor": 2
}
